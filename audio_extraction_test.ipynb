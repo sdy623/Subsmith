{
 "cells": [
  {
   "cell_type": "markdown",
   "id": "a9e87609",
   "metadata": {},
   "source": [
    "## 测试: Fugashi 智能读音匹配\n",
    "\n",
    "测试使用 fugashi 来自动选择最合适的读音"
   ]
  },
  {
   "cell_type": "code",
   "execution_count": 7,
   "id": "bbc64a3c",
   "metadata": {},
   "outputs": [
    {
     "name": "stdout",
     "output_type": "stream",
     "text": [
      "🔍 单词: 精霊\n",
      "   Fugashi 读音: セイレイ\n",
      "\n",
      "🔍 单词: 政権\n",
      "   Fugashi 读音: セイケン\n",
      "\n",
      "🔍 单词: 庇う\n",
      "   Fugashi 读音: カバウ\n",
      "\n"
     ]
    }
   ],
   "source": [
    "# 重新导入模块以加载新功能\n",
    "import importlib\n",
    "import mdx_utils.audio_lookup\n",
    "importlib.reload(mdx_utils.audio_lookup)\n",
    "\n",
    "from mdx_utils.audio_lookup import get_word_reading_with_fugashi, match_best_pitch, extract_pitch_info_nhk_old\n",
    "import re\n",
    "\n",
    "# 测试单词\n",
    "test_words = [\"精霊\", \"政権\", \"庇う\"]\n",
    "\n",
    "for word in test_words:\n",
    "    print(f\"🔍 单词: {word}\")\n",
    "    \n",
    "    # 获取 fugashi 读音\n",
    "    fugashi_reading = get_word_reading_with_fugashi(word)\n",
    "    print(f\"   Fugashi 读音: {fugashi_reading}\")\n",
    "    \n",
    "    # 获取所有候选读音\n",
    "    if globals().get('nhk_old_mdx') and globals()['nhk_old_mdx'].exists():\n",
    "        all_pitches = extract_pitch_info_nhk_old(nhk_old_mdx, word, return_all=True)\n",
    "        \n",
    "        if all_pitches:\n",
    "            print(f\"   所有候选读音 ({len(all_pitches)} 个):\")\n",
    "            for i, (reading, pitch) in enumerate(all_pitches, 1):\n",
    "                plain = re.sub(r'<[^>]+>', '', reading)\n",
    "                print(f\"      {i}. {plain} {pitch}\")\n",
    "            \n",
    "            # 智能匹配\n",
    "            best_reading, best_pitch = extract_pitch_info_nhk_old(nhk_old_mdx, word, return_all=False)\n",
    "            if best_reading:\n",
    "                plain_best = re.sub(r'<[^>]+>', '', best_reading)\n",
    "                print(f\"   ✅ 智能匹配结果: {plain_best} {best_pitch}\")\n",
    "                \n",
    "                # 显示渲染效果\n",
    "                display(HTML(f'<div style=\"font-size: 20px; padding: 10px; background: #e8f5e9; border-left: 4px solid #4caf50; border-radius: 5px;\">{best_reading} <span style=\"color: #4caf50; font-weight: bold;\">{best_pitch}</span></div>'))\n",
    "    \n",
    "    print()"
   ]
  },
  {
   "cell_type": "code",
   "execution_count": 8,
   "id": "f9fef405",
   "metadata": {},
   "outputs": [
    {
     "name": "stdout",
     "output_type": "stream",
     "text": [
      "Fugashi 测试:\n",
      "  表層形: 精霊\n",
      "  Feature: UnidicFeatures29(pos1='名詞', pos2='普通名詞', pos3='一般', pos4='*', cType='*', cForm='*', lForm='セイレイ', lemma='精霊', orth='精霊', pron='セーレー', orthBase='精霊', pronBase='セーレー', goshu='漢', iType='*', iForm='*', fType='*', fForm='*', iConType='*', fConType='*', type='体', kana='セイレイ', kanaBase='セイレイ', form='セイレイ', formBase='セイレイ', aType='0', aConType='C2', aModType='*', lid='5507737245065728', lemma_id='20037')\n",
      "  読み (kana): セイレイ\n",
      "  読み (feature[7]): 精霊\n",
      "\n"
     ]
    }
   ],
   "source": [
    "# 测试 fugashi 是否可用\n",
    "try:\n",
    "    import fugashi\n",
    "    tagger = fugashi.Tagger()\n",
    "    result = tagger(\"精霊\")\n",
    "    print(\"Fugashi 测试:\")\n",
    "    for word in result:\n",
    "        print(f\"  表層形: {word.surface}\")\n",
    "        print(f\"  Feature: {word.feature}\")\n",
    "        \n",
    "        # 尝试不同的读音字段\n",
    "        try:\n",
    "            kana = word.feature.kana\n",
    "            print(f\"  読み (kana): {kana}\")\n",
    "        except:\n",
    "            print(f\"  読み (kana): 不可用\")\n",
    "        \n",
    "        try:\n",
    "            reading = word.feature[7] if len(word.feature) > 7 else None\n",
    "            print(f\"  読み (feature[7]): {reading}\")\n",
    "        except:\n",
    "            print(f\"  読み (feature[7]): 不可用\")\n",
    "        \n",
    "        print()\n",
    "except Exception as e:\n",
    "    print(f\"Fugashi 错误: {e}\")"
   ]
  },
  {
   "cell_type": "markdown",
   "id": "ec49a424",
   "metadata": {},
   "source": [
    "# MDX 音频提取测试 - 使用 mdxscraper.core.audio\n",
    "\n",
    "本 Notebook 演示如何使用 `mdx_utils` 提取音频和音调信息。\n",
    "\n",
    "**技术栈:**\n",
    "- `mdxscraper.core.audio` - 底层音频提取\n",
    "- `mdx_utils.audio_lookup` - 高层封装API\n",
    "\n",
    "**词典优先级:**\n",
    "1. 新版 NHK (AAC 音频)\n",
    "2. 旧版 NHK (MP3 + 完整音调标记)\n",
    "3. 大辞泉 第二版 (音频 + 下降位置)\n",
    "\n",
    "---"
   ]
  },
  {
   "cell_type": "code",
   "execution_count": 9,
   "id": "338965cf",
   "metadata": {},
   "outputs": [
    {
     "name": "stdout",
     "output_type": "stream",
     "text": [
      "✅ mdxscraper.core.audio 可用\n",
      "✅ mdx_utils 音频模块已导入\n"
     ]
    }
   ],
   "source": [
    "# 导入模块\n",
    "from pathlib import Path\n",
    "from IPython.display import HTML, display\n",
    "\n",
    "# 检查 mdxscraper.core.audio 是否可用\n",
    "try:\n",
    "    from mdxscraper.core.audio import (\n",
    "        AudioInfo,\n",
    "        get_audio_info,\n",
    "        extract_audio_paths_from_html,\n",
    "    )\n",
    "    print(\"✅ mdxscraper.core.audio 可用\")\n",
    "    AUDIO_MODULE_AVAILABLE = True\n",
    "except ImportError as e:\n",
    "    print(f\"⚠️  mdxscraper.core.audio 不可用: {e}\")\n",
    "    print(\"   请确保 mdxscraper 版本支持 audio 模块\")\n",
    "    AUDIO_MODULE_AVAILABLE = False\n",
    "\n",
    "# 导入 mdx_utils\n",
    "from mdx_utils import (\n",
    "    AudioLookup,\n",
    "    extract_audio_from_mdx,\n",
    "    extract_pitch_info_nhk_old,\n",
    "    get_all_audio_info_from_mdx,\n",
    ")\n",
    "\n",
    "print(\"✅ mdx_utils 音频模块已导入\")"
   ]
  },
  {
   "cell_type": "markdown",
   "id": "c4f917c4",
   "metadata": {},
   "source": [
    "## Test 1: 底层 API - 单词典音频提取\n",
    "\n",
    "使用 `extract_audio_from_mdx()` 从单个词典提取音频"
   ]
  },
  {
   "cell_type": "code",
   "execution_count": 10,
   "id": "15b83e63",
   "metadata": {},
   "outputs": [
    {
     "name": "stdout",
     "output_type": "stream",
     "text": [
      "🔍 测试单词: 政権\n",
      "\n",
      "============================================================\n",
      "\n",
      "📚 测试词典: 大辞泉 第二版\n",
      "   路径: DJS.mdx\n",
      "   ✅ 找到音频!\n",
      "   - MIME类型: audio/aac\n",
      "   - Base64长度: 8708 字符\n",
      "   - 来源: 大辞泉 第二版\n"
     ]
    }
   ],
   "source": [
    "# 配置词典路径\n",
    "DICTS_DIR = Path(r\"E:\\repos\\Japanese-Anime-Text-Analysis\\Anime_Texts\\JP_Dics\")\n",
    "\n",
    "# 测试词典\n",
    "test_dicts = [\n",
    "    (DICTS_DIR / \"DJS_N\" / \"DJS.mdx\", \"大辞泉 第二版\"),\n",
    "    # 添加其他词典...\n",
    "]\n",
    "\n",
    "# 测试单词\n",
    "word = \"政権\"\n",
    "\n",
    "print(f\"🔍 测试单词: {word}\\n\")\n",
    "print(\"=\" * 60)\n",
    "\n",
    "for mdx_path, dict_name in test_dicts:\n",
    "    if not mdx_path.exists():\n",
    "        print(f\"❌ {dict_name}: 文件不存在\")\n",
    "        continue\n",
    "    \n",
    "    print(f\"\\n📚 测试词典: {dict_name}\")\n",
    "    print(f\"   路径: {mdx_path.name}\")\n",
    "    \n",
    "    # 提取音频\n",
    "    audio_base64, mime_type, source = extract_audio_from_mdx(mdx_path, word, dict_name)\n",
    "    \n",
    "    if audio_base64:\n",
    "        print(f\"   ✅ 找到音频!\")\n",
    "        print(f\"   - MIME类型: {mime_type}\")\n",
    "        print(f\"   - Base64长度: {len(audio_base64)} 字符\")\n",
    "        print(f\"   - 来源: {source}\")\n",
    "    else:\n",
    "        print(f\"   ℹ️  未找到音频\")"
   ]
  },
  {
   "cell_type": "markdown",
   "id": "d92e40f5",
   "metadata": {},
   "source": [
    "## Test 2: 获取所有音频信息\n",
    "\n",
    "使用 `get_all_audio_info_from_mdx()` 获取词条的所有音频文件"
   ]
  },
  {
   "cell_type": "code",
   "execution_count": 11,
   "id": "9f44b32a",
   "metadata": {},
   "outputs": [
    {
     "name": "stdout",
     "output_type": "stream",
     "text": [
      "🔍 查询单词: 政権\n",
      "📚 词典: 大辞泉 第二版\n",
      "\n",
      "✅ 找到 1 个音频文件:\n",
      "\n",
      "   音频 1:\n",
      "   - 路径: s00003472.aac\n",
      "   - 格式: aac\n",
      "   - MIME: audio/aac\n",
      "   - 大小: 6529 bytes\n",
      "\n"
     ]
    }
   ],
   "source": [
    "# 测试获取所有音频\n",
    "word = \"政権\"\n",
    "mdx_path = DICTS_DIR / \"DJS_N\" / \"DJS.mdx\"\n",
    "\n",
    "if mdx_path.exists():\n",
    "    print(f\"🔍 查询单词: {word}\")\n",
    "    print(f\"📚 词典: 大辞泉 第二版\\n\")\n",
    "    \n",
    "    audio_infos = get_all_audio_info_from_mdx(mdx_path, word, \"大辞泉\")\n",
    "    \n",
    "    if audio_infos:\n",
    "        print(f\"✅ 找到 {len(audio_infos)} 个音频文件:\\n\")\n",
    "        \n",
    "        for i, info in enumerate(audio_infos, 1):\n",
    "            print(f\"   音频 {i}:\")\n",
    "            print(f\"   - 路径: {info.audio_path}\")\n",
    "            print(f\"   - 格式: {info.format}\")\n",
    "            print(f\"   - MIME: {info.mime_type}\")\n",
    "            print(f\"   - 大小: {len(info.audio_data)} bytes\")\n",
    "            print()\n",
    "    else:\n",
    "        print(\"ℹ️  未找到音频\")\n",
    "else:\n",
    "    print(\"❌ 词典文件不存在\")"
   ]
  },
  {
   "cell_type": "markdown",
   "id": "65f22cfa",
   "metadata": {},
   "source": [
    "## Test 3: 音调信息提取 (旧版 NHK)\n",
    "\n",
    "从旧版 NHK 提取 tune-0/tune-1/tune-2 标记"
   ]
  },
  {
   "cell_type": "code",
   "execution_count": 12,
   "id": "d5c431b5",
   "metadata": {},
   "outputs": [
    {
     "name": "stdout",
     "output_type": "stream",
     "text": [
      "📚 旧版 NHK: NHKJPVDL.mdx\n",
      "\n",
      "🔍 单词: 精霊\n",
      "   ✅ 找到音调信息\n",
      "   - 读音 (HTML): セ<span style=\"text-decoration: overline;\">イ</span><span style=\"text-decoration: overline;\">レ</span><span style=\"text-decoration: overline;\">イ</span>\n",
      "   - 音调类型: [0]\n"
     ]
    },
    {
     "data": {
      "text/html": [
       "<div style=\"font-size: 20px; padding: 10px; background: #f0f0f0; border-radius: 5px;\">セ<span style=\"text-decoration: overline;\">イ</span><span style=\"text-decoration: overline;\">レ</span><span style=\"text-decoration: overline;\">イ</span></div>"
      ],
      "text/plain": [
       "<IPython.core.display.HTML object>"
      ]
     },
     "metadata": {},
     "output_type": "display_data"
    },
    {
     "name": "stdout",
     "output_type": "stream",
     "text": [
      "\n",
      "🔍 单词: 政権\n",
      "   ✅ 找到音调信息\n",
      "   - 读音 (HTML): セ<span style=\"text-decoration: overline;\">イ</span><span style=\"text-decoration: overline;\">ケ</span><span style=\"text-decoration: overline;\">ン</span>\n",
      "   - 音调类型: [0]\n"
     ]
    },
    {
     "data": {
      "text/html": [
       "<div style=\"font-size: 20px; padding: 10px; background: #f0f0f0; border-radius: 5px;\">セ<span style=\"text-decoration: overline;\">イ</span><span style=\"text-decoration: overline;\">ケ</span><span style=\"text-decoration: overline;\">ン</span></div>"
      ],
      "text/plain": [
       "<IPython.core.display.HTML object>"
      ]
     },
     "metadata": {},
     "output_type": "display_data"
    },
    {
     "name": "stdout",
     "output_type": "stream",
     "text": [
      "\n",
      "🔍 单词: 庇う\n",
      "   ✅ 找到音调信息\n",
      "   - 读音 (HTML): カ<span style=\"text-decoration: overline;\">バ</span>ウ\n",
      "   - 音调类型: [2]\n"
     ]
    },
    {
     "data": {
      "text/html": [
       "<div style=\"font-size: 20px; padding: 10px; background: #f0f0f0; border-radius: 5px;\">カ<span style=\"text-decoration: overline;\">バ</span>ウ</div>"
      ],
      "text/plain": [
       "<IPython.core.display.HTML object>"
      ]
     },
     "metadata": {},
     "output_type": "display_data"
    },
    {
     "name": "stdout",
     "output_type": "stream",
     "text": [
      "\n"
     ]
    }
   ],
   "source": [
    "# 旧版 NHK 路径 (根据实际情况调整)\n",
    "nhk_old_dir = DICTS_DIR / \"NHK_Old\"\n",
    "\n",
    "# 查找第一个 .mdx 文件\n",
    "nhk_old_mdx = None\n",
    "if nhk_old_dir.exists():\n",
    "    mdx_files = list(nhk_old_dir.glob(\"*.mdx\"))\n",
    "    if mdx_files:\n",
    "        nhk_old_mdx = mdx_files[0]\n",
    "\n",
    "if nhk_old_mdx and nhk_old_mdx.exists():\n",
    "    print(f\"📚 旧版 NHK: {nhk_old_mdx.name}\\n\")\n",
    "    \n",
    "    # 测试多个单词\n",
    "    test_words = [\"精霊\", \"政権\", \"庇う\"]\n",
    "    \n",
    "    for word in test_words:\n",
    "        print(f\"🔍 单词: {word}\")\n",
    "        \n",
    "        reading, pitch_pos = extract_pitch_info_nhk_old(nhk_old_mdx, word)\n",
    "        \n",
    "        if reading:\n",
    "            print(f\"   ✅ 找到音调信息\")\n",
    "            print(f\"   - 读音 (HTML): {reading}\")\n",
    "            print(f\"   - 音调类型: {pitch_pos}\")\n",
    "            \n",
    "            # 显示渲染效果\n",
    "            display(HTML(f'<div style=\"font-size: 20px; padding: 10px; background: #f0f0f0; border-radius: 5px;\">{reading}</div>'))\n",
    "        else:\n",
    "            print(f\"   ℹ️  未找到音调信息\")\n",
    "        \n",
    "        print()\n",
    "else:\n",
    "    print(\"❌ 未找到旧版 NHK 词典\")\n",
    "    print(f\"   搜索目录: {nhk_old_dir}\")"
   ]
  },
  {
   "cell_type": "markdown",
   "id": "5453d5fb",
   "metadata": {},
   "source": [
    "## Test 4: AudioLookup 高层 API\n",
    "\n",
    "使用 `AudioLookup` 类进行多词典联合查询"
   ]
  },
  {
   "cell_type": "markdown",
   "id": "a71fe632",
   "metadata": {},
   "source": [
    "## Test 3.5: 获取所有音调信息 (多读音)\n",
    "\n",
    "有些词有多个读音/音调,使用 `return_all=True` 获取所有音调信息"
   ]
  },
  {
   "cell_type": "code",
   "execution_count": 13,
   "id": "836b69b6",
   "metadata": {},
   "outputs": [
    {
     "name": "stdout",
     "output_type": "stream",
     "text": [
      "📚 旧版 NHK: NHKJPVDL.mdx\\n\n",
      "🔍 单词: 精霊\n",
      "   ✅ 找到 3 个读音:\\n\n",
      "   读音 1: ショーリョー [2]\n"
     ]
    },
    {
     "data": {
      "text/html": [
       "<div style=\"font-size: 18px; padding: 8px; background: #f8f8f8; border-radius: 5px; margin: 5px 0;\">1. <span style=\"text-decoration: overline;\">シ</span><span style=\"text-decoration: overline;\">ョ</span>ーリョー <span style=\"color: #888; margin-left: 10px;\">[2]</span></div>"
      ],
      "text/plain": [
       "<IPython.core.display.HTML object>"
      ]
     },
     "metadata": {},
     "output_type": "display_data"
    },
    {
     "name": "stdout",
     "output_type": "stream",
     "text": [
      "   读音 2: ショーリョー [0]\n"
     ]
    },
    {
     "data": {
      "text/html": [
       "<div style=\"font-size: 18px; padding: 8px; background: #f8f8f8; border-radius: 5px; margin: 5px 0;\">2. ショ<span style=\"text-decoration: overline;\">ー</span><span style=\"text-decoration: overline;\">リ</span><span style=\"text-decoration: overline;\">ョ</span><span style=\"text-decoration: overline;\">ー</span> <span style=\"color: #888; margin-left: 10px;\">[0]</span></div>"
      ],
      "text/plain": [
       "<IPython.core.display.HTML object>"
      ]
     },
     "metadata": {},
     "output_type": "display_data"
    },
    {
     "name": "stdout",
     "output_type": "stream",
     "text": [
      "   读音 3: セイレイ [0]\n"
     ]
    },
    {
     "data": {
      "text/html": [
       "<div style=\"font-size: 18px; padding: 8px; background: #f8f8f8; border-radius: 5px; margin: 5px 0;\">3. セ<span style=\"text-decoration: overline;\">イ</span><span style=\"text-decoration: overline;\">レ</span><span style=\"text-decoration: overline;\">イ</span> <span style=\"color: #888; margin-left: 10px;\">[0]</span></div>"
      ],
      "text/plain": [
       "<IPython.core.display.HTML object>"
      ]
     },
     "metadata": {},
     "output_type": "display_data"
    },
    {
     "name": "stdout",
     "output_type": "stream",
     "text": [
      "\n",
      "🔍 单词: 政権\n",
      "   ✅ 找到 1 个读音:\\n\n",
      "   读音 1: セイケン [0]\n"
     ]
    },
    {
     "data": {
      "text/html": [
       "<div style=\"font-size: 18px; padding: 8px; background: #f8f8f8; border-radius: 5px; margin: 5px 0;\">1. セ<span style=\"text-decoration: overline;\">イ</span><span style=\"text-decoration: overline;\">ケ</span><span style=\"text-decoration: overline;\">ン</span> <span style=\"color: #888; margin-left: 10px;\">[0]</span></div>"
      ],
      "text/plain": [
       "<IPython.core.display.HTML object>"
      ]
     },
     "metadata": {},
     "output_type": "display_data"
    },
    {
     "name": "stdout",
     "output_type": "stream",
     "text": [
      "\n",
      "🔍 单词: 庇う\n",
      "   ✅ 找到 1 个读音:\\n\n",
      "   读音 1: カバウ [2]\n"
     ]
    },
    {
     "data": {
      "text/html": [
       "<div style=\"font-size: 18px; padding: 8px; background: #f8f8f8; border-radius: 5px; margin: 5px 0;\">1. カ<span style=\"text-decoration: overline;\">バ</span>ウ <span style=\"color: #888; margin-left: 10px;\">[2]</span></div>"
      ],
      "text/plain": [
       "<IPython.core.display.HTML object>"
      ]
     },
     "metadata": {},
     "output_type": "display_data"
    },
    {
     "name": "stdout",
     "output_type": "stream",
     "text": [
      "\n",
      "🔍 单词: 空模様\n",
      "   ℹ️  未找到音调信息\n",
      "\n",
      "   ℹ️  未找到音调信息\n",
      "\n"
     ]
    }
   ],
   "source": [
    "# 测试获取所有音调信息\n",
    "if nhk_old_mdx and nhk_old_mdx.exists():\n",
    "    print(f\"📚 旧版 NHK: {nhk_old_mdx.name}\\\\n\")\n",
    "    \n",
    "    # 测试多读音单词\n",
    "    test_words = [\"精霊\", \"政権\", \"庇う\", \"空模様\"]\n",
    "    \n",
    "    for word in test_words:\n",
    "        print(f\"🔍 单词: {word}\")\n",
    "        \n",
    "        # 获取所有读音的音调信息\n",
    "        all_pitch_infos = extract_pitch_info_nhk_old(nhk_old_mdx, word, return_all=True)\n",
    "        \n",
    "        if all_pitch_infos:\n",
    "            print(f\"   ✅ 找到 {len(all_pitch_infos)} 个读音:\\\\n\")\n",
    "            \n",
    "            for i, (reading, pitch_pos) in enumerate(all_pitch_infos, 1):\n",
    "                # 移除 HTML 标签用于显示\n",
    "                import re\n",
    "                plain_reading = re.sub(r'<[^>]+>', '', reading)\n",
    "                print(f\"   读音 {i}: {plain_reading} {pitch_pos}\")\n",
    "                \n",
    "                # 显示渲染效果\n",
    "                display(HTML(f'<div style=\"font-size: 18px; padding: 8px; background: #f8f8f8; border-radius: 5px; margin: 5px 0;\">{i}. {reading} <span style=\"color: #888; margin-left: 10px;\">{pitch_pos}</span></div>'))\n",
    "        else:\n",
    "            print(f\"   ℹ️  未找到音调信息\")\n",
    "        \n",
    "        print()\n",
    "else:\n",
    "    print(\"❌ 未找到旧版 NHK 词典\")"
   ]
  },
  {
   "cell_type": "code",
   "execution_count": 14,
   "id": "f801696f",
   "metadata": {},
   "outputs": [
    {
     "name": "stdout",
     "output_type": "stream",
     "text": [
      "✅ AudioLookup 初始化完成\n",
      "   音频词典: 2 个\n",
      "   - NHK旧版 (✅)\n",
      "   - 大辞泉 第二版 (✅)\n",
      "   音调词典: ✅ NHKJPVDL.mdx\n",
      "\n"
     ]
    }
   ],
   "source": [
    "# 初始化 AudioLookup\n",
    "audio_lookup = AudioLookup.from_dirs(\n",
    "    nhk_old_dir=DICTS_DIR / \"NHK_Old\",\n",
    "    djs_dir=DICTS_DIR / \"DJS_N\",\n",
    "    dict_names={\n",
    "        \"DJS.mdx\": \"大辞泉 第二版\",\n",
    "    }\n",
    ")\n",
    "\n",
    "print(\"✅ AudioLookup 初始化完成\")\n",
    "print(f\"   音频词典: {len(audio_lookup.audio_dicts)} 个\")\n",
    "for mdx_path, name in audio_lookup.audio_dicts:\n",
    "    print(f\"   - {name} ({'✅' if mdx_path.exists() else '❌'})\")\n",
    "print(f\"   音调词典: {'✅ ' + audio_lookup.pitch_dict.name if audio_lookup.pitch_dict else '❌ 未配置'}\")\n",
    "print()"
   ]
  },
  {
   "cell_type": "code",
   "execution_count": 15,
   "id": "c806548e",
   "metadata": {},
   "outputs": [
    {
     "name": "stdout",
     "output_type": "stream",
     "text": [
      "============================================================\n",
      "🔍 查询单词: 政権\n",
      "============================================================\n",
      "✅ 音频: NHK旧版 (audio/ogg)\n",
      "✅ 音调: NHK旧版 [0]\n",
      "\n",
      "🔊 音频信息:\n",
      "   - 来源: NHK旧版\n",
      "   - 类型: audio/ogg\n",
      "   - 大小: 6964 字符 (base64)\n",
      "\n",
      "📝 音调信息:\n",
      "   - 来源: NHK旧版\n",
      "   - 类型: [0]\n",
      "   - 读音:\n"
     ]
    },
    {
     "data": {
      "text/html": [
       "<div style=\"font-size: 24px; padding: 10px; background: #f5f5f5; border-radius: 5px;\">セ<span style=\"text-decoration: overline;\">イ</span><span style=\"text-decoration: overline;\">ケ</span><span style=\"text-decoration: overline;\">ン</span></div>"
      ],
      "text/plain": [
       "<IPython.core.display.HTML object>"
      ]
     },
     "metadata": {},
     "output_type": "display_data"
    },
    {
     "name": "stdout",
     "output_type": "stream",
     "text": [
      "\n",
      "============================================================\n",
      "🔍 查询单词: 精霊\n",
      "============================================================\n",
      "✅ 音频: NHK旧版 (audio/ogg)\n",
      "✅ 音调: NHK旧版 [0]\n",
      "\n",
      "🔊 音频信息:\n",
      "   - 来源: NHK旧版\n",
      "   - 类型: audio/ogg\n",
      "   - 大小: 6756 字符 (base64)\n",
      "\n",
      "📝 音调信息:\n",
      "   - 来源: NHK旧版\n",
      "   - 类型: [0]\n",
      "   - 读音:\n"
     ]
    },
    {
     "data": {
      "text/html": [
       "<div style=\"font-size: 24px; padding: 10px; background: #f5f5f5; border-radius: 5px;\">セ<span style=\"text-decoration: overline;\">イ</span><span style=\"text-decoration: overline;\">レ</span><span style=\"text-decoration: overline;\">イ</span></div>"
      ],
      "text/plain": [
       "<IPython.core.display.HTML object>"
      ]
     },
     "metadata": {},
     "output_type": "display_data"
    },
    {
     "name": "stdout",
     "output_type": "stream",
     "text": [
      "\n",
      "============================================================\n",
      "🔍 查询单词: 庇う\n",
      "============================================================\n",
      "✅ 音频: NHK旧版 (audio/ogg)\n",
      "✅ 音调: NHK旧版 [2]\n",
      "\n",
      "🔊 音频信息:\n",
      "   - 来源: NHK旧版\n",
      "   - 类型: audio/ogg\n",
      "   - 大小: 4780 字符 (base64)\n",
      "\n",
      "📝 音调信息:\n",
      "   - 来源: NHK旧版\n",
      "   - 类型: [2]\n",
      "   - 读音:\n"
     ]
    },
    {
     "data": {
      "text/html": [
       "<div style=\"font-size: 24px; padding: 10px; background: #f5f5f5; border-radius: 5px;\">カ<span style=\"text-decoration: overline;\">バ</span>ウ</div>"
      ],
      "text/plain": [
       "<IPython.core.display.HTML object>"
      ]
     },
     "metadata": {},
     "output_type": "display_data"
    },
    {
     "name": "stdout",
     "output_type": "stream",
     "text": [
      "\n"
     ]
    }
   ],
   "source": [
    "# 测试查询\n",
    "test_words = [\"政権\", \"精霊\", \"庇う\"]\n",
    "\n",
    "for word in test_words:\n",
    "    print(\"=\" * 60)\n",
    "    print(f\"🔍 查询单词: {word}\")\n",
    "    print(\"=\" * 60)\n",
    "    \n",
    "    result = audio_lookup.lookup(word, verbose=True)\n",
    "    \n",
    "    # 显示结果\n",
    "    if result['audio_base64']:\n",
    "        print(f\"\\n🔊 音频信息:\")\n",
    "        print(f\"   - 来源: {result['audio_source']}\")\n",
    "        print(f\"   - 类型: {result['audio_mime']}\")\n",
    "        print(f\"   - 大小: {len(result['audio_base64'])} 字符 (base64)\")\n",
    "    else:\n",
    "        print(f\"\\n❌ 未找到音频\")\n",
    "    \n",
    "    if result['reading']:\n",
    "        print(f\"\\n📝 音调信息:\")\n",
    "        print(f\"   - 来源: {result['pitch_source']}\")\n",
    "        print(f\"   - 类型: {result['pitch_position']}\")\n",
    "        print(f\"   - 读音:\")\n",
    "        display(HTML(f'<div style=\"font-size: 24px; padding: 10px; background: #f5f5f5; border-radius: 5px;\">{result[\"reading\"]}</div>'))\n",
    "    else:\n",
    "        print(f\"\\n❌ 未找到音调信息\")\n",
    "    \n",
    "    print()"
   ]
  },
  {
   "cell_type": "code",
   "execution_count": 16,
   "id": "4c287161",
   "metadata": {},
   "outputs": [
    {
     "name": "stdout",
     "output_type": "stream",
     "text": [
      "\\n============================================================\n",
      "🔍 测试: 返回所有音调信息\n",
      "============================================================\\n\n",
      "✅ 音频: NHK旧版 (audio/ogg)\n",
      "✅ 音调: NHK旧版 找到 3 个读音\n",
      "   1. ショーリョー [2]\n",
      "   2. ショーリョー [0]\n",
      "   3. セイレイ [0]\n",
      "\\n📝 找到 3 个读音:\\n\n",
      "   1. ショーリョー [2]\n"
     ]
    },
    {
     "data": {
      "text/html": [
       "\n",
       "        <div style=\"padding: 10px; background: #f5f9fc; border-left: 4px solid #2196F3; margin: 5px 0; border-radius: 4px;\">\n",
       "            <span style=\"font-size: 20px; font-weight: bold;\">1.</span>\n",
       "            <span style=\"font-size: 22px; margin-left: 10px;\"><span style=\"text-decoration: overline;\">シ</span><span style=\"text-decoration: overline;\">ョ</span>ーリョー</span>\n",
       "            <span style=\"color: #2196F3; font-weight: bold; margin-left: 15px;\">[2]</span>\n",
       "        </div>\n",
       "        "
      ],
      "text/plain": [
       "<IPython.core.display.HTML object>"
      ]
     },
     "metadata": {},
     "output_type": "display_data"
    },
    {
     "name": "stdout",
     "output_type": "stream",
     "text": [
      "   2. ショーリョー [0]\n"
     ]
    },
    {
     "data": {
      "text/html": [
       "\n",
       "        <div style=\"padding: 10px; background: #f5f9fc; border-left: 4px solid #2196F3; margin: 5px 0; border-radius: 4px;\">\n",
       "            <span style=\"font-size: 20px; font-weight: bold;\">2.</span>\n",
       "            <span style=\"font-size: 22px; margin-left: 10px;\">ショ<span style=\"text-decoration: overline;\">ー</span><span style=\"text-decoration: overline;\">リ</span><span style=\"text-decoration: overline;\">ョ</span><span style=\"text-decoration: overline;\">ー</span></span>\n",
       "            <span style=\"color: #2196F3; font-weight: bold; margin-left: 15px;\">[0]</span>\n",
       "        </div>\n",
       "        "
      ],
      "text/plain": [
       "<IPython.core.display.HTML object>"
      ]
     },
     "metadata": {},
     "output_type": "display_data"
    },
    {
     "name": "stdout",
     "output_type": "stream",
     "text": [
      "   3. セイレイ [0]\n"
     ]
    },
    {
     "data": {
      "text/html": [
       "\n",
       "        <div style=\"padding: 10px; background: #f5f9fc; border-left: 4px solid #2196F3; margin: 5px 0; border-radius: 4px;\">\n",
       "            <span style=\"font-size: 20px; font-weight: bold;\">3.</span>\n",
       "            <span style=\"font-size: 22px; margin-left: 10px;\">セ<span style=\"text-decoration: overline;\">イ</span><span style=\"text-decoration: overline;\">レ</span><span style=\"text-decoration: overline;\">イ</span></span>\n",
       "            <span style=\"color: #2196F3; font-weight: bold; margin-left: 15px;\">[0]</span>\n",
       "        </div>\n",
       "        "
      ],
      "text/plain": [
       "<IPython.core.display.HTML object>"
      ]
     },
     "metadata": {},
     "output_type": "display_data"
    },
    {
     "name": "stdout",
     "output_type": "stream",
     "text": [
      "\\n💡 提示: 默认使用第一个读音\n",
      "   - reading: <span style=\"text-decoration: overline;\">シ</span><...\n",
      "   - pitchPosition: [2]\n"
     ]
    }
   ],
   "source": [
    "# 测试查询 - 返回所有音调信息\n",
    "print(\"\\\\n\" + \"=\" * 60)\n",
    "print(\"🔍 测试: 返回所有音调信息\")\n",
    "print(\"=\" * 60 + \"\\\\n\")\n",
    "\n",
    "test_word = \"精霊\"  # 选择一个可能有多读音的单词\n",
    "\n",
    "# 查询并返回所有音调\n",
    "result = audio_lookup.lookup(test_word, verbose=True, return_all_pitches=True)\n",
    "\n",
    "if result.get('all_pitches'):\n",
    "    print(f\"\\\\n📝 找到 {len(result['all_pitches'])} 个读音:\\\\n\")\n",
    "    \n",
    "    for i, (reading, pitch_pos) in enumerate(result['all_pitches'], 1):\n",
    "        # 移除 HTML 标签用于显示\n",
    "        import re\n",
    "        plain_reading = re.sub(r'<[^>]+>', '', reading)\n",
    "        print(f\"   {i}. {plain_reading} {pitch_pos}\")\n",
    "        \n",
    "        # 渲染效果\n",
    "        display(HTML(f'''\n",
    "        <div style=\"padding: 10px; background: #f5f9fc; border-left: 4px solid #2196F3; margin: 5px 0; border-radius: 4px;\">\n",
    "            <span style=\"font-size: 20px; font-weight: bold;\">{i}.</span>\n",
    "            <span style=\"font-size: 22px; margin-left: 10px;\">{reading}</span>\n",
    "            <span style=\"color: #2196F3; font-weight: bold; margin-left: 15px;\">{pitch_pos}</span>\n",
    "        </div>\n",
    "        '''))\n",
    "    \n",
    "    print(f\"\\\\n💡 提示: 默认使用第一个读音\")\n",
    "    print(f\"   - reading: {result['reading'][:50]}...\")\n",
    "    print(f\"   - pitchPosition: {result['pitch_position']}\")\n",
    "else:\n",
    "    print(\"\\\\nℹ️  只找到一个读音或未找到音调信息\")"
   ]
  },
  {
   "cell_type": "markdown",
   "id": "a77705ba",
   "metadata": {},
   "source": [
    "## Test 5: 音频播放预览\n",
    "\n",
    "在 Notebook 中直接播放提取的音频"
   ]
  },
  {
   "cell_type": "code",
   "execution_count": 17,
   "id": "42030391",
   "metadata": {},
   "outputs": [
    {
     "name": "stdout",
     "output_type": "stream",
     "text": [
      "🔍 单词: 政権\n",
      "\n",
      "🔊 音频来源: NHK旧版 (audio/ogg)\n"
     ]
    },
    {
     "data": {
      "text/html": [
       "\n",
       "    <div style=\"padding: 20px; background: #f9f9f9; border-radius: 10px; border: 1px solid #ddd;\">\n",
       "        <h3 style=\"margin-top: 0;\">🔊 政権</h3>\n",
       "        <audio controls style=\"width: 100%;\">\n",
       "            <source src=\"data:audio/ogg;base64,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\" type=\"audio/ogg\">\n",
       "            您的浏览器不支持音频播放\n",
       "        </audio>\n",
       "        <p style=\"margin-bottom: 0; color: #666; font-size: 14px;\">\n",
       "            来源: NHK旧版 | 格式: audio/ogg\n",
       "        </p>\n",
       "    </div>\n",
       "    "
      ],
      "text/plain": [
       "<IPython.core.display.HTML object>"
      ]
     },
     "metadata": {},
     "output_type": "display_data"
    },
    {
     "name": "stdout",
     "output_type": "stream",
     "text": [
      "\n",
      "📝 音调标记: [0]\n"
     ]
    },
    {
     "data": {
      "text/html": [
       "\n",
       "    <div style=\"padding: 15px; background: #e8f4f8; border-radius: 10px; border: 1px solid #b3d9e6;\">\n",
       "        <div style=\"font-size: 28px; font-weight: bold; margin-bottom: 5px;\">セ<span style=\"text-decoration: overline;\">イ</span><span style=\"text-decoration: overline;\">ケ</span><span style=\"text-decoration: overline;\">ン</span></div>\n",
       "        <div style=\"color: #555; font-size: 16px;\">音调类型: [0]</div>\n",
       "    </div>\n",
       "    "
      ],
      "text/plain": [
       "<IPython.core.display.HTML object>"
      ]
     },
     "metadata": {},
     "output_type": "display_data"
    }
   ],
   "source": [
    "# 选择一个单词测试\n",
    "word = \"政権\"\n",
    "result = audio_lookup.lookup(word)\n",
    "\n",
    "print(f\"🔍 单词: {word}\\n\")\n",
    "\n",
    "if result['audio_base64']:\n",
    "    print(f\"🔊 音频来源: {result['audio_source']} ({result['audio_mime']})\")\n",
    "    \n",
    "    # 构建 data URI\n",
    "    audio_url = f\"data:{result['audio_mime']};base64,{result['audio_base64']}\"\n",
    "    \n",
    "    # 显示音频播放器\n",
    "    audio_html = f'''\n",
    "    <div style=\"padding: 20px; background: #f9f9f9; border-radius: 10px; border: 1px solid #ddd;\">\n",
    "        <h3 style=\"margin-top: 0;\">🔊 {word}</h3>\n",
    "        <audio controls style=\"width: 100%;\">\n",
    "            <source src=\"{audio_url}\" type=\"{result['audio_mime']}\">\n",
    "            您的浏览器不支持音频播放\n",
    "        </audio>\n",
    "        <p style=\"margin-bottom: 0; color: #666; font-size: 14px;\">\n",
    "            来源: {result['audio_source']} | 格式: {result['audio_mime']}\n",
    "        </p>\n",
    "    </div>\n",
    "    '''\n",
    "    \n",
    "    display(HTML(audio_html))\n",
    "else:\n",
    "    print(\"❌ 未找到音频\")\n",
    "\n",
    "print()\n",
    "\n",
    "# 显示音调标记\n",
    "if result['reading']:\n",
    "    print(f\"📝 音调标记: {result['pitch_position']}\")\n",
    "    display(HTML(f'''\n",
    "    <div style=\"padding: 15px; background: #e8f4f8; border-radius: 10px; border: 1px solid #b3d9e6;\">\n",
    "        <div style=\"font-size: 28px; font-weight: bold; margin-bottom: 5px;\">{result['reading']}</div>\n",
    "        <div style=\"color: #555; font-size: 16px;\">音调类型: {result['pitch_position']}</div>\n",
    "    </div>\n",
    "    '''))\n",
    "else:\n",
    "    print(\"❌ 未找到音调信息\")"
   ]
  },
  {
   "cell_type": "markdown",
   "id": "bff0d9c0",
   "metadata": {},
   "source": [
    "## Test 6: Anki 字段格式转换\n",
    "\n",
    "将查询结果转换为 AnkiConnect 可用的格式"
   ]
  },
  {
   "cell_type": "code",
   "execution_count": 18,
   "id": "9c4c20ff",
   "metadata": {},
   "outputs": [
    {
     "name": "stdout",
     "output_type": "stream",
     "text": [
      "📋 Anki 字段格式 (单词: 精霊):\n",
      "\n",
      "============================================================\n",
      "\n",
      "1️⃣  reading 字段:\n",
      "   HTML: セ<span style=\"text-decoration: overline;\">イ</span><span style=\"text-decoration: overline;\">レ</span><span style=\"text-decoration: overline;\">イ</span>\n",
      "   渲染效果:\n"
     ]
    },
    {
     "data": {
      "text/html": [
       "<div style=\"font-size: 24px; padding: 10px; background: #f5f5f5;\">セ<span style=\"text-decoration: overline;\">イ</span><span style=\"text-decoration: overline;\">レ</span><span style=\"text-decoration: overline;\">イ</span></div>"
      ],
      "text/plain": [
       "<IPython.core.display.HTML object>"
      ]
     },
     "metadata": {},
     "output_type": "display_data"
    },
    {
     "name": "stdout",
     "output_type": "stream",
     "text": [
      "\n",
      "2️⃣  pitchPosition 字段:\n",
      "   [0]\n",
      "\n",
      "3️⃣  audio 字段:\n",
      "   文件名: audio_-905922204766552976.ogg\n",
      "   Base64长度: 6756 字符\n",
      "   目标字段: ['audio']\n",
      "\n",
      "============================================================\n",
      "\n",
      "💡 提示: anki_fields 对象可以传递给其他程序使用\n",
      "\n",
      "返回的对象类型: <class 'dict'>\n",
      "可用字段: ['audio', 'reading', 'pitchPosition']\n"
     ]
    },
    {
     "data": {
      "text/plain": [
       "{'audio': {'data': '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',\n",
       "  'filename': 'audio_-905922204766552976.ogg',\n",
       "  'fields': ['audio']},\n",
       " 'reading': 'セ<span style=\"text-decoration: overline;\">イ</span><span style=\"text-decoration: overline;\">レ</span><span style=\"text-decoration: overline;\">イ</span>',\n",
       " 'pitchPosition': '[0]'}"
      ]
     },
     "execution_count": 18,
     "metadata": {},
     "output_type": "execute_result"
    }
   ],
   "source": [
    "# 查询单词\n",
    "word = \"精霊\"\n",
    "result = audio_lookup.lookup(word)\n",
    "\n",
    "# 转换为 Anki 格式\n",
    "anki_fields = audio_lookup.format_for_anki(result)\n",
    "\n",
    "print(f\"📋 Anki 字段格式 (单词: {word}):\\n\")\n",
    "print(\"=\" * 60)\n",
    "\n",
    "# 显示字段\n",
    "print(f\"\\n1️⃣  reading 字段:\")\n",
    "if anki_fields['reading']:\n",
    "    print(f\"   HTML: {anki_fields['reading']}\")\n",
    "    print(f\"   渲染效果:\")\n",
    "    display(HTML(f'<div style=\"font-size: 24px; padding: 10px; background: #f5f5f5;\">{anki_fields[\"reading\"]}</div>'))\n",
    "else:\n",
    "    print(f\"   (空)\")\n",
    "\n",
    "print(f\"\\n2️⃣  pitchPosition 字段:\")\n",
    "print(f\"   {anki_fields['pitchPosition'] or '(空)'}\")\n",
    "\n",
    "print(f\"\\n3️⃣  audio 字段:\")\n",
    "if anki_fields['audio']:\n",
    "    print(f\"   文件名: {anki_fields['audio']['filename']}\")\n",
    "    print(f\"   Base64长度: {len(anki_fields['audio']['data'])} 字符\")\n",
    "    print(f\"   目标字段: {anki_fields['audio']['fields']}\")\n",
    "else:\n",
    "    print(f\"   (空)\")\n",
    "\n",
    "print(\"\\n\" + \"=\" * 60)\n",
    "\n",
    "# 返回结果对象供后续程序使用\n",
    "print(\"\\n💡 提示: anki_fields 对象可以传递给其他程序使用\")\n",
    "print(f\"\\n返回的对象类型: {type(anki_fields)}\")\n",
    "print(f\"可用字段: {list(anki_fields.keys())}\")\n",
    "\n",
    "# 显示对象\n",
    "anki_fields"
   ]
  },
  {
   "cell_type": "markdown",
   "id": "d052742e",
   "metadata": {},
   "source": [
    "---\n",
    "\n",
    "## 🎯 智能读音匹配总结\n",
    "\n",
    "**功能说明:**\n",
    "- 当 NHK 词典返回多个读音时,使用 **fugashi** 获取单词的实际读音\n",
    "- 自动匹配最接近的音调信息\n",
    "- 如果 fugashi 不可用或无法获取读音,则默认返回**最后一个读音**(通常是最常用的)\n",
    "\n",
    "**示例对比:**\n",
    "\n",
    "| 单词 | 所有候选读音 | 默认选择 (旧逻辑) | 智能选择 (新逻辑) |\n",
    "|------|-------------|------------------|------------------|\n",
    "| 精霊 | ①ショーリョー ②ショーリョー ③セイレイ | ①ショーリョー (不常用) | ③セイレイ (常用) ✅ |\n",
    "| 政権 | ①セイケン | ①セイケン | ①セイケン |\n",
    "| 庇う | ①カバウ | ①カバウ | ①カバウ |\n",
    "\n",
    "**使用方式:**\n",
    "\n",
    "```python\n",
    "from mdx_utils import AudioLookup\n",
    "\n",
    "# 初始化\n",
    "lookup = AudioLookup.from_dirs(\n",
    "    nhk_old_dir=Path(\"NHK_Old\"),\n",
    "    djs_dir=Path(\"DJS\"),\n",
    ")\n",
    "\n",
    "# 默认查询 - 自动使用 fugashi 匹配最合适的读音\n",
    "result = lookup.lookup(\"精霊\")\n",
    "print(result['reading'])  # セイレイ (智能匹配)\n",
    "\n",
    "# 查看所有候选读音\n",
    "result = lookup.lookup(\"精霊\", return_all_pitches=True)\n",
    "for reading, pitch in result['all_pitches']:\n",
    "    print(f\"{reading} {pitch}\")\n",
    "```\n",
    "\n",
    "**优点:**\n",
    "1. ✅ 自动选择最常用的读音\n",
    "2. ✅ 无需手动配置优先级\n",
    "3. ✅ 支持 fallback (fugashi 不可用时使用最后一个)\n",
    "4. ✅ 完全向后兼容"
   ]
  },
  {
   "cell_type": "markdown",
   "id": "e8de9a90",
   "metadata": {},
   "source": [
    "## 总结\n",
    "\n",
    "### ✅ 完成的功能\n",
    "\n",
    "1. **底层 API**\n",
    "   - `extract_audio_from_mdx()` - 单词典音频提取\n",
    "   - `get_all_audio_info_from_mdx()` - 获取所有音频信息\n",
    "   - `extract_pitch_info_nhk_old()` - 音调信息提取\n",
    "   - `get_word_reading_with_fugashi()` - Fugashi读音获取\n",
    "   - `match_best_pitch()` - 智能读音匹配\n",
    "\n",
    "2. **高层 API**\n",
    "   - `AudioLookup` 类 - 多词典联合查询\n",
    "   - `format_for_anki()` - Anki 字段格式转换\n",
    "\n",
    "3. **技术特性**\n",
    "   - ✅ 复用 `mdxscraper.core.audio` 模块\n",
    "   - ✅ 高内聚低耦合设计\n",
    "   - ✅ 支持多种音频格式 (AAC, MP3, WAV...)\n",
    "   - ✅ 完整的音调标记提取\n",
    "   - ✅ Base64 编码自动处理\n",
    "   - ✅ **多读音智能匹配 (Fugashi集成)**\n",
    "\n",
    "### 📚 词典优先级\n",
    "\n",
    "| 优先级 | 词典 | 音频格式 | 音调标记 |\n",
    "|--------|------|----------|----------|\n",
    "| 1 | 新版 NHK | AAC (高质量) | 不完整 |\n",
    "| 2 | 旧版 NHK | MP3/OGG | ✅ 完整 (tune-0/1/2) |\n",
    "| 3 | 大辞泉 | MP3 | 仅下降位置 |\n",
    "\n",
    "### 🎵 音调标记系统\n",
    "\n",
    "**旧版 NHK HTML 标签:**\n",
    "- `tune-0`: 低音\n",
    "- `tune-1`: 高音 → 转换为上划线\n",
    "- `tune-2`: 下降音 → 上划线 + 记录位置\n",
    "\n",
    "**Anki 字段:**\n",
    "- `reading`: `<span style=\"text-decoration: overline;\">高音部分</span>`\n",
    "- `pitchPosition`: `[0]`, `[1]`, `[2]` 等\n",
    "\n",
    "### 🤖 智能读音匹配 (新增)\n",
    "\n",
    "**问题:** NHK词典将不常用读音放在前面\n",
    "**解决:** 使用 fugashi 获取实际读音并智能匹配\n",
    "\n",
    "**示例: 精霊**\n",
    "- 所有候选: ①ショーリョー [2] → ②ショーリョー [0] → ③セイレイ [0]\n",
    "- Fugashi读音: セイレイ\n",
    "- **智能选择: セイレイ [0]** ✅\n",
    "\n",
    "**Fallback:** 如果 fugashi 不可用,返回最后一个读音(通常是最常用的)\n",
    "\n",
    "**安装:**\n",
    "```bash\n",
    "pip install fugashi unidic-lite\n",
    "```\n",
    "\n",
    "### 📖 相关文档\n",
    "\n",
    "- [MULTI_PITCH_SUPPORT.md](../mdx_utils/MULTI_PITCH_SUPPORT.md) - 多读音支持说明\n",
    "- [FUGASHI_INTEGRATION.md](../mdx_utils/FUGASHI_INTEGRATION.md) - Fugashi集成详解\n",
    "- [AUDIO_FEATURE_SUMMARY.md](../mdx_utils/AUDIO_FEATURE_SUMMARY.md) - 音频功能总结\n",
    "- [README.md](../mdx_utils/README.md) - 完整使用文档\n",
    "\n",
    "---\n",
    "\n",
    "**完成日期**: 2025-10-19  \n",
    "**最后更新**: 集成 Fugashi 智能读音匹配"
   ]
  }
 ],
 "metadata": {
  "kernelspec": {
   "display_name": "mdx",
   "language": "python",
   "name": "python3"
  },
  "language_info": {
   "codemirror_mode": {
    "name": "ipython",
    "version": 3
   },
   "file_extension": ".py",
   "mimetype": "text/x-python",
   "name": "python",
   "nbconvert_exporter": "python",
   "pygments_lexer": "ipython3",
   "version": "3.11.13"
  }
 },
 "nbformat": 4,
 "nbformat_minor": 5
}
